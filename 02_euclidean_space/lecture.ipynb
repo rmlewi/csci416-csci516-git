{
 "cells": [
  {
   "cell_type": "markdown",
   "id": "5de53e94-8d3b-4cc4-911d-4d24482b7efb",
   "metadata": {},
   "source": [
    "<div style=\"text-align:center;\">\n",
    "    <img style=\"text-align:center;\" src=\"http://www.cs.wm.edu/~rml/images/wm_horizontal_single_line_full_color.png\">\n",
    "</div>\n",
    "<h1 style=\"text-align:center;\">CSCI 416-01/516-01: Fundamentals of AI and ML, Fall 2025</h1>\n",
    "<h1 style=\"text-align:center;\">A review of vectors and matrices</h1>"
   ]
  },
  {
   "cell_type": "markdown",
   "id": "61dcd9c5-4758-4ddc-86f5-d9a71167ea92",
   "metadata": {},
   "source": [
    "# Vectors and matrices in <code>numpy</code> \n",
    "$\\newcommand{\\R}{\\mathbb{R}}$\n",
    "$\\newcommand{\\C}{\\mathbb{C}}$\n",
    "$\\newcommand{\\Rm}{\\R^{m}}$\n",
    "$\\newcommand{\\Rn}{\\R^{n}}$\n",
    "$\\newcommand{\\Rmn}{\\R^{m \\times n}}$\n",
    "$\\newcommand{\\Rnn}{\\R^{n \\times n}}$\n",
    "$\\newcommand{\\Rnm}{\\R^{n \\times m}}$\n",
    "$\\newcommand{\\Rmm}{\\R^{m \\times m}}$\n",
    "\n",
    "The set of real numbers is denoted by $\\R$.  The space of all $n$-dimensional real vectors is denoted by $\\Rn$.\n",
    "\n",
    "Given vectors $v_{1}, \\ldots, v_{r}$, their <span style=\"color: #ff0000\">span</span> is the set of vectors of the form\n",
    "$$\n",
    "\\alpha_{1}v_{1} + \\cdots + \\alpha_{r}v_{r}\n",
    "$$\n",
    "for $\\alpha_{1}, \\ldots, \\alpha_{r} \\in \\R$.  Vectors of the form $\\alpha_{1}v_{1} + \\cdots + \\alpha_{r}v_{r}$ are called <span style=\"color: #ff0000\">linear combinations</span> of $v_{1}, \\ldots, v_{r}$.\n",
    "\n",
    "A set of vectors $v_{1}, \\ldots, v_{r}$ is called <span style=\"color: #ff0000\">linearly independent</span> if \n",
    "$$\n",
    "\\alpha_{1}v_{1} + \\cdots + \\alpha_{r}v_{r} = 0\n",
    "$$\n",
    "then $\\alpha_{1} = \\ldots = \\alpha_{r} = 0$.\n",
    "\n",
    "The <span style=\"color: #ff0000\">standard basis</span> for $\\Rn$ is the set of vectors $e_{i}$ with $1$ in the $i$-th position and zero otherwise.  These span $\\Rn$."
   ]
  },
  {
   "cell_type": "code",
   "execution_count": null,
   "id": "e70e4de8-7fa3-41a6-9944-8e57ba3cd1ed",
   "metadata": {},
   "outputs": [],
   "source": [
    "import numpy as np"
   ]
  },
  {
   "cell_type": "code",
   "execution_count": null,
   "id": "f4aa14c0-99da-49ae-97d9-ccc053cbf500",
   "metadata": {},
   "outputs": [],
   "source": [
    "x = np.array([1.,2,3]) \n",
    "print(x)"
   ]
  },
  {
   "cell_type": "code",
   "execution_count": null,
   "id": "2cde5319-bf89-4470-9fd8-cf623f40dde6",
   "metadata": {},
   "outputs": [],
   "source": [
    "print(f\"{x.ndim = }\")   # Number of dimensions\n",
    "print(f\"{x.shape = }\")  # Dimensions\n",
    "print(f\"{x.size = }\")   # Number of elements\n",
    "print(f\"{x.dtype = }\")  # Type"
   ]
  },
  {
   "cell_type": "markdown",
   "id": "f54c0c28-d6a8-46b2-8edb-a71cc72513d5",
   "metadata": {},
   "source": [
    "Vectors in $\\Rn$ are matrices.  <span color=\"ff0000\">Row vectors</span> are $1 \\times n$ matrices; <space color=\"ff0000\">column vectors</span> are $n \\times 1$ matrices.  When we are talking about linear algebra you should assume that vectors are column vectors.\n",
    "\n",
    "Unfortunately,  <code>numpy</code> treats vectors as a special case, rather than $n \\times 1$ or $1 \\times n$ matrices.  This is WRONG!"
   ]
  },
  {
   "cell_type": "code",
   "execution_count": null,
   "id": "6cd12307-7120-4ce3-ba33-a2fbdedb8155",
   "metadata": {},
   "outputs": [],
   "source": [
    "y = np.array([4,5,6])"
   ]
  },
  {
   "cell_type": "code",
   "execution_count": null,
   "id": "ca871a77-15fd-4193-a5f4-c59f2304a295",
   "metadata": {},
   "outputs": [],
   "source": [
    "print(f\"{y.ndim = }\")   # Number of dimensions\n",
    "print(f\"{y.shape = }\")  # Dimensions\n",
    "print(f\"{y.size = }\")   # Number of elements\n",
    "print(f\"{y.dtype = }\")  # Type"
   ]
  },
  {
   "cell_type": "markdown",
   "id": "f2646591-de0a-4df5-bcfc-e6e32ea177ac",
   "metadata": {},
   "source": [
    "You can slice vectors in the same way as you slice lists in Python.  This means the upper bound is one less than the ostensible upper bound, unlike Matlab and Fortran. "
   ]
  },
  {
   "cell_type": "code",
   "execution_count": null,
   "id": "67fd062a-6192-4149-a92c-7f86da19ded8",
   "metadata": {},
   "outputs": [],
   "source": [
    "print(x[0:2])\n",
    "print(x[:1])\n",
    "print(x[:])\n",
    "print(x[1:])"
   ]
  },
  {
   "cell_type": "markdown",
   "id": "ecec0a96-ce1c-4a09-8ae7-5f8356363864",
   "metadata": {},
   "source": [
    "# Operations on vectors"
   ]
  },
  {
   "cell_type": "markdown",
   "id": "894fd55d-8e0b-4187-89b6-b07b09b04342",
   "metadata": {},
   "source": [
    "In mathematics, vector addition and subtraction, as well as scalar multiplication, are all defined, being element-wise operations."
   ]
  },
  {
   "cell_type": "code",
   "execution_count": null,
   "id": "15a9ce21-bb80-45fc-ba9e-399a9f31a7d6",
   "metadata": {},
   "outputs": [],
   "source": [
    "print(x + y)\n",
    "print(x - y)\n",
    "print(2 * x)"
   ]
  },
  {
   "cell_type": "markdown",
   "id": "f27f9edb-4b17-4a8d-bc89-66dd569860b9",
   "metadata": {},
   "source": [
    "In computation, element-wise multiplication and division are also defined.\n",
    "\n",
    "In <code>numpy</code>, for vectors and matrices <code>*</code> represents element-wise multiplication term.  This is like Matlab's <code>.&ast;</code> operator and <code>&ast;</code> in Fortran.\n",
    "\n",
    "The mathematical terminology for element-wise multiplication is the  <span style=\"color: #ff0000\">Hadamard product</span>."
   ]
  },
  {
   "cell_type": "code",
   "execution_count": null,
   "id": "8decb1fc-6660-4233-86a9-76d8b446fba0",
   "metadata": {},
   "outputs": [],
   "source": [
    "print(x * y)  # * is element-wise multiplication"
   ]
  },
  {
   "cell_type": "code",
   "execution_count": null,
   "id": "22cd23ed-810e-4078-a785-e81b2a1ddb77",
   "metadata": {},
   "outputs": [],
   "source": [
    "print(x / y)   # / is element-wise division\n",
    "print(x // y)  # // is element-wise floor division"
   ]
  },
  {
   "cell_type": "markdown",
   "id": "66711553-8a28-4515-8565-2b8c9ad6686e",
   "metadata": {},
   "source": [
    "The <span style=\"color: #ff0000\">Euclidean inner product</span> of two vectors $x, y, \\in \\Rn$ is defined to be\n",
    "$$\n",
    "x \\cdot y = x^{T}y = \\sum_{i=1}^{n} x_{i}y_{i} = x_{1}y_{1} + \\cdots + x_{n}y_{n}.\n",
    "$$\n"
   ]
  },
  {
   "cell_type": "code",
   "execution_count": null,
   "id": "c6046620-17a2-454f-a9c6-37a8b7009a23",
   "metadata": {},
   "outputs": [],
   "source": [
    "print(x @ y)  # For vectors, @ is the inner product."
   ]
  },
  {
   "cell_type": "markdown",
   "id": "a4bfc7ba-6697-4c7d-ba85-12813388cd67",
   "metadata": {},
   "source": [
    "The <span style=\"color: #ff0000\">Euclidean norm</span> of $x \\in \\Rn$ is\n",
    "$$\n",
    "\\| x \\| = \\sqrt{x \\cdot x} = \\sqrt{x^{T}x} = \\left( x_{1}^{2} + \\cdots + x_{n}^{2} \\right)^{1/2}.\n",
    "$$"
   ]
  },
  {
   "cell_type": "markdown",
   "id": "c1443f1e-1814-4187-99d3-0877a408b57d",
   "metadata": {},
   "source": [
    "The <span style=\"color: #ff0000\">Cauchy-Schwarz</span> inequality is\n",
    "$$\n",
    "x^{T}y \\leq \\| x \\|\\ \\| y \\|.\n",
    "$$\n",
    "If $\\theta$ is the angle between $x$ and $y$ in the plane they determine, then\n",
    "$$\n",
    "x^{T}y = \\| x \\|\\ \\| y \\|\\ \\cos\\theta.\n",
    "$$\n",
    "Thus, if $x \\neq 0, y \\neq 0$, then $x^{T}y = 0$ if and only if $\\theta = 90^{\\degree}$.  In this case we say $x$ and $y$ are <span style=\"color: #ff0000\">orthogonal</span> or <span style=\"color: #ff0000\">perpendicular</span>."
   ]
  },
  {
   "cell_type": "code",
   "execution_count": null,
   "id": "b2657502-ebd3-4ea2-a4bf-7dd8412aa494",
   "metadata": {},
   "outputs": [],
   "source": [
    "print(f\"{x @ y = }\")"
   ]
  },
  {
   "cell_type": "code",
   "execution_count": null,
   "id": "ac52a6e6-0a39-47e0-ae72-a2b4a66ad952",
   "metadata": {},
   "outputs": [],
   "source": [
    "print(f\"||x|| = {np.linalg.norm(x, ord=2)}\")\n",
    "print(f\"||y|| = {np.linalg.norm(y, ord=2)}\")\n",
    "print(f\"||x|| * ||y|| = {np.linalg.norm(x, ord=2) * np.linalg.norm(y, ord=2)}\")"
   ]
  },
  {
   "cell_type": "markdown",
   "id": "6aba0af1-df18-4da2-992e-bb6b7e623865",
   "metadata": {},
   "source": [
    "The Euclidean norm satisfies the <span style=\"color: red\">triangle inequality</span>\n",
    "$$\n",
    "\\| x + y \\| \\leq \\| x \\| + \\| y \\|.\n",
    "$$"
   ]
  },
  {
   "cell_type": "code",
   "execution_count": null,
   "id": "f3276d07-dea7-497f-89c0-29032a1a48c6",
   "metadata": {},
   "outputs": [],
   "source": [
    "print(f\"||x + y||     = {np.linalg.norm(x+y, ord=2)}\")\n",
    "print(f\"||x|| + ||y|| = {np.linalg.norm(x, ord=2) + np.linalg.norm(y, ord=2)}\")"
   ]
  },
  {
   "cell_type": "markdown",
   "id": "d67dac0f-09e7-4cc9-9fd4-788276882f93",
   "metadata": {},
   "source": [
    "Mixing vectors with incompatible dimensions in <code>numpy</code> results in an error:"
   ]
  },
  {
   "cell_type": "code",
   "execution_count": null,
   "id": "be61a63a-415d-462f-a8c0-77b15563d05f",
   "metadata": {},
   "outputs": [],
   "source": [
    "z = np.array([1,2,3,4])\n",
    "print(x + z)"
   ]
  },
  {
   "cell_type": "markdown",
   "id": "91996210-989f-41a9-adb5-c3e9a82a6912",
   "metadata": {},
   "source": [
    "# Matrices\n",
    "\n"
   ]
  },
  {
   "cell_type": "code",
   "execution_count": null,
   "id": "2237830b-d43d-4bec-a73c-a63308671421",
   "metadata": {},
   "outputs": [],
   "source": [
    "A = np.array([\n",
    "    [1, 2, 3],\n",
    "    [4, 5, 6]\n",
    "])\n",
    "print(A)"
   ]
  },
  {
   "cell_type": "code",
   "execution_count": null,
   "id": "907d3a3a-2d45-42e1-bea3-b1635effa542",
   "metadata": {},
   "outputs": [],
   "source": [
    "print(f\"{A.shape = }\")  # Dimensions\n",
    "print(f\"{A.size = }\")   # Number of elements\n",
    "print(f\"{A.dtype = }\")  # Type"
   ]
  },
  {
   "cell_type": "markdown",
   "id": "c89b5082-f173-41e9-ab6b-d7330c41a1ef",
   "metadata": {},
   "source": [
    "Array access in <code>numpy</code> is the same as in Matlab and Fortran:"
   ]
  },
  {
   "cell_type": "code",
   "execution_count": null,
   "id": "267d2677-2c6e-464d-a5db-4497ca6fab71",
   "metadata": {},
   "outputs": [],
   "source": [
    "print(A[:,2])    # All rows of column 2.  This should be a column vector, only numpy is WRONG!\n",
    "print(A[1:3,:])  # All columns of rows 1 to 2.\n",
    "print(A[:2,:2])  # Upper left-hand 2 x 2 block."
   ]
  },
  {
   "cell_type": "markdown",
   "id": "e099e42c-4227-4434-a2c6-6fa38a8b014c",
   "metadata": {},
   "source": [
    "As with vectors, <code>&ast;</code> represents element-wise multiplication:"
   ]
  },
  {
   "cell_type": "code",
   "execution_count": null,
   "id": "f32704f9-0656-49aa-b4b7-2dee8b5be6e3",
   "metadata": {},
   "outputs": [],
   "source": [
    "A*x"
   ]
  },
  {
   "cell_type": "markdown",
   "id": "0d59c203-3c53-4cc2-8c9c-9f56671c8619",
   "metadata": {},
   "source": [
    "Matrix multiplication is also denoted by <code>@</code>"
   ]
  },
  {
   "cell_type": "code",
   "execution_count": null,
   "id": "ff88bf94-c374-4436-9499-43008091bf92",
   "metadata": {},
   "outputs": [],
   "source": [
    "A@x"
   ]
  },
  {
   "cell_type": "code",
   "execution_count": null,
   "id": "25aea650-2828-4719-998a-60db3f97f8c1",
   "metadata": {},
   "outputs": [],
   "source": [
    "B = np.array([\n",
    "    [1, 1],\n",
    "    [2, 2]\n",
    "])\n",
    "print(B)"
   ]
  },
  {
   "cell_type": "code",
   "execution_count": null,
   "id": "401c4964-515b-43a9-8912-66da9bde0dad",
   "metadata": {
    "jupyter": {
     "source_hidden": true
    }
   },
   "outputs": [],
   "source": [
    "B@A"
   ]
  },
  {
   "cell_type": "markdown",
   "id": "bd8425da-5f5b-4fc6-961f-05310c7fb87a",
   "metadata": {},
   "source": [
    "Attempting to apply operations to matrices of incompatible dimensions results in an error:"
   ]
  },
  {
   "cell_type": "code",
   "execution_count": null,
   "id": "28330576-b996-4b94-a985-b4936daa18fd",
   "metadata": {},
   "outputs": [],
   "source": [
    "A@B"
   ]
  },
  {
   "cell_type": "markdown",
   "id": "03d31d54-d38d-43d0-989e-4001ddc79c2b",
   "metadata": {},
   "source": [
    "# Tensors\n",
    "\n",
    "Vectors and matrices are special cases of tensors.  The simplest way to think of a tensor is as a multiply indexed array.  The number of indices is called the rank of the tensor, which is confusing since the rank of a matrix means something completely different."
   ]
  },
  {
   "cell_type": "code",
   "execution_count": null,
   "id": "cd7dc761-d962-475a-b75b-b1f662f170ee",
   "metadata": {},
   "outputs": [],
   "source": [
    "# A 2 x 3 x 4 tensor.\n",
    "T = np.zeros((2,3,4))  # A rank-3 tensor of zeros.\n",
    "print(T)"
   ]
  },
  {
   "cell_type": "markdown",
   "id": "f5c4ded5-addb-4ace-9804-eb217fe0f3af",
   "metadata": {},
   "source": [
    "When we print <code>T</code>, it is printed by plane, each of which is a $3 \\times 4$ matrix."
   ]
  },
  {
   "cell_type": "code",
   "execution_count": null,
   "id": "621c3a0e-5301-4fe6-bb97-fb586df9df54",
   "metadata": {},
   "outputs": [],
   "source": [
    "print(f\"{T.shape = }\")  # Dimensions\n",
    "print(f\"{T.size = }\")   # Number of elements\n",
    "print(f\"{T.dtype = }\")  # Type"
   ]
  },
  {
   "cell_type": "markdown",
   "id": "965038ff-d016-47df-b39b-95174ad95458",
   "metadata": {},
   "source": [
    "# Back to matrices&hellip;\n",
    "\n",
    "Given $A \\in \\Rmn$, the row rank of $A$ is the number of linearly independent rows, while the column rank is the number of linear independent columns.  The row rank is the same as the column rank; this common value is called the <span style=\"color: red\">rank</span> of $A$.\n",
    "\n",
    "A matrix all of whose rows are linearly independent is said to have full row rank; a matrix all of whose columns are linearly independent is said to have full column rank.\n",
    "\n",
    "A matrix with full column rank defines a map $A: x \\in \\Rn \\mapsto Ax \\in \\Rm$ that is 1-1.\n",
    "\n",
    "A matrix with full column rank defines a map $A: x \\in \\Rn \\mapsto Ax \\in \\Rm$ that is onto $\\Rm$.\n",
    "\n",
    "Suppose $c_{1}, c_{2}, \\ldots, c_{n}$ are the columns of $A$ and that $x = (x_{1}, x_{2}, \\ldots, x_{n}) \\in \\Rn$.  Then\n",
    "$$\n",
    "  Ax = x_{1} c_{1} + x_{2} c_{2} + \\cdots + x_{n} c_{n}.\n",
    "$$"
   ]
  },
  {
   "cell_type": "markdown",
   "id": "efa39bc5-3cc6-4e13-ab56-dadc41b19c16",
   "metadata": {},
   "source": [
    "Given an $m \\times n$ matrix $A = (a_{ij})$, its transpose $A^{T}$ is the $n \\times m$ whose $(i,j)$ entry is $a_{ji}$:"
   ]
  },
  {
   "cell_type": "code",
   "execution_count": null,
   "id": "c4d9a9d6-f0fc-4131-96e7-96c75edd96de",
   "metadata": {},
   "outputs": [],
   "source": [
    "print(A, end=\"\\n\\n\")\n",
    "print(A.T)"
   ]
  },
  {
   "cell_type": "markdown",
   "id": "58f65870-f918-4d70-ac3b-6e87f8643b3f",
   "metadata": {},
   "source": [
    "A matrix is symmetric if $A = A^{T}$.  Note that symmetric matrices are necessarily square."
   ]
  },
  {
   "cell_type": "code",
   "execution_count": null,
   "id": "4e33f43b-90a7-4c6b-bb22-8e05d7eb571e",
   "metadata": {},
   "outputs": [],
   "source": [
    "B = np.array([\n",
    "    [1,2,3],\n",
    "    [4,5,6],\n",
    "    [7,8,9]\n",
    "])\n",
    "B = B + B.T  # A symmetric matrix.\n",
    "print(B)"
   ]
  },
  {
   "cell_type": "markdown",
   "id": "bddfc5bb-4204-4d91-b2e7-b3fb756f6fd8",
   "metadata": {},
   "source": [
    "A matrix $U \\in \\Rnn$ is orthogonal if $U^{T}U = I$:"
   ]
  },
  {
   "cell_type": "code",
   "execution_count": null,
   "id": "30879f36-c177-4b3a-9b77-f10b63e30a90",
   "metadata": {},
   "outputs": [],
   "source": [
    "U,S,Vh = np.linalg.svd(A)  # U and V are orthogonal\n",
    "print(Vh @ Vh.T)"
   ]
  },
  {
   "cell_type": "markdown",
   "id": "4e0f4eb2-73d3-4ea8-a924-a77a3ec2a24b",
   "metadata": {},
   "source": [
    "Orthogonal matrices preserve the Euclidean norm:"
   ]
  },
  {
   "cell_type": "code",
   "execution_count": null,
   "id": "c37089dd-3d64-4f5f-919c-4cd8039ee1ec",
   "metadata": {},
   "outputs": [],
   "source": [
    "print(f\"||x||  = {np.linalg.norm(x, ord=2)}\")\n",
    "print(f\"||Ux|| = {np.linalg.norm(Vh@x, ord=2)}\")"
   ]
  },
  {
   "cell_type": "markdown",
   "id": "fd2d94be-8807-4835-b68a-e4c21e14adaa",
   "metadata": {},
   "source": [
    "A matrix $A \\in \\Rnn$ is called positive definite if $x^{T}Ax > 0$ for all $x \\neq 0$.\n",
    "\n",
    "A matrix $A \\in \\Rnn$ is called positive semidefinite if $x^{T}Ax \\geq 0$ for all $x$."
   ]
  },
  {
   "cell_type": "code",
   "execution_count": null,
   "id": "6693864b-4203-4b92-9ec6-15fd4b3d4e29",
   "metadata": {},
   "outputs": [],
   "source": [
    "A = np.array([  # A is symmetric positive definite.\n",
    "    [2,1],\n",
    "    [1,2]\n",
    "])\n",
    "\n",
    "rng = np.random.default_rng()\n",
    "for _ in range(42):\n",
    "    u = 2*(rng.random((2,)) - 1)\n",
    "    print(u@A@u)"
   ]
  },
  {
   "cell_type": "markdown",
   "id": "7e464397-8664-4f0e-ba5f-c87c4a9c1b94",
   "metadata": {},
   "source": [
    "# Eigenvalues and eigenvectors\n",
    "\n",
    "Let $A$ be an $n \\times n$ matrix.  An <span style=\"color: red\">eigenvalue</span> $\\lambda \\in \\C$ such that there exists a vector $v \\neq 0$ for which\n",
    "$$\n",
    "Av = \\lambda v.\n",
    "$$\n",
    "Such a $v$ is called an <span style=\"color: red\">eigenvector</span>.\n",
    "\n",
    "If $A$ is real it may still have complex eigenvalues:"
   ]
  },
  {
   "cell_type": "code",
   "execution_count": null,
   "id": "043e9f25-4f39-44a5-87ea-0ad906460c36",
   "metadata": {},
   "outputs": [],
   "source": [
    "A = np.array([\n",
    "    [1,-1],\n",
    "    [1, 1]\n",
    "])\n",
    "print(np.linalg.eigvals(A))"
   ]
  },
  {
   "cell_type": "markdown",
   "id": "d833fb23-5244-44c2-8ca1-7ac834838640",
   "metadata": {},
   "source": [
    "However, if $A \\in \\Rnn$ is symmetric, then all of its eigenvalues are real, and there exists an orthogonal set of eigenvectors that spans $\\Rn$:"
   ]
  },
  {
   "cell_type": "code",
   "execution_count": null,
   "id": "5ffbee59-df31-4796-9edb-5df9ac5c593a",
   "metadata": {},
   "outputs": [],
   "source": [
    "A = np.array([\n",
    "    [1, 2, 3],\n",
    "    [2, 4, 5],\n",
    "    [3, 5, 4]\n",
    "])\n",
    "\n",
    "D, V = np.linalg.eig(A)  # Returns eigenvalues, eigenvectors.\n",
    "print(\"eigenvalues: \", D)\n",
    "print(\"eigenvectors: \", V)\n",
    "print(V@V.T)  # Check that V is orthogonal."
   ]
  },
  {
   "cell_type": "markdown",
   "id": "4b79b159-ccc0-4f57-b34c-a12a2a88ff6e",
   "metadata": {},
   "source": [
    "A matrix is symmetric positive definite if and only if all of its eigenvalues are positive."
   ]
  },
  {
   "cell_type": "code",
   "execution_count": null,
   "id": "4464013d-224b-4972-9a39-b7cb9bd9e98c",
   "metadata": {},
   "outputs": [],
   "source": [
    "A = np.array([  # A is symmetric positive definite.\n",
    "    [3,1,1],\n",
    "    [1,3,1],\n",
    "    [1,1,3]\n",
    "])\n",
    "\n",
    "print(np.linalg.eigvals(A))"
   ]
  },
  {
   "cell_type": "markdown",
   "id": "2f915701-c65c-4002-a153-5df61498b53b",
   "metadata": {},
   "source": [
    "# The singular value decomposition\n",
    "\n",
    "If $A \\in \\Rmn$, then there exist orthogonal matrices\n",
    "\\begin{align*}\n",
    "    U &= \\left[u_{1}, \\cdots, u_{n}\\right] \\in \\Rmm \\\\\n",
    "    V &= \\left[v_{1}, \\cdots, v_{m}\\right] \\in \\Rnn,\n",
    "\\end{align*}\n",
    "and $\\Sigma \\in \\Rmn$,\n",
    "$$\n",
    "  \\Sigma = \\begin{pmatrix}\n",
    "    \\sigma_{1} & 0 & 0 & \\cdots & 0 \\\\\n",
    "    0 & \\sigma_{2} & 0 & \\cdots & 0 \\\\\n",
    "    \\vdots & \\vdots & & \\ddots &  0 \\\\\n",
    "    0 & 0 & 0 & \\cdots & \\sigma_{p},\n",
    "\\end{pmatrix}\n",
    "$$\n",
    "where $p = \\min(m,n)$ and $\\sigma_{1} \\geq \\sigma_{2} \\geq \\ldots \\geq \\sigma_{p} \\geq 0$, such that \n",
    "$$\n",
    "  A = U \\Sigma V^{T}.\n",
    "$$\n",
    "This is called the singular value decomposition (SVD).\n",
    "\n",
    "This means\n",
    "$$\n",
    "A = \\sum_{k=1}^{p} \\sigma_{k} u_{k}v_{k}^{T}.\n",
    "$$"
   ]
  },
  {
   "cell_type": "code",
   "execution_count": null,
   "id": "1dd41c44-5229-4a20-8661-2854f5ecbab0",
   "metadata": {},
   "outputs": [],
   "source": [
    "U,S,Vh = np.linalg.svd(A)\n",
    "print(f\"{U = }\")\n",
    "print(f\"{S = }\")\n",
    "print(f\"{Vh = }\")"
   ]
  },
  {
   "cell_type": "code",
   "execution_count": null,
   "id": "e018be32-bbcb-4698-b5b5-5a930aa927b7",
   "metadata": {},
   "outputs": [],
   "source": [
    "S = np.c_[ np.diag(S), np.zeros(2) ]  # Add a column of zeros.\n",
    "print(S)"
   ]
  },
  {
   "cell_type": "code",
   "execution_count": null,
   "id": "ca1a7468-2316-4346-be84-7bbdfe0b9794",
   "metadata": {},
   "outputs": [],
   "source": [
    "print(f\"{A - U@S@Vh = }\")"
   ]
  },
  {
   "cell_type": "markdown",
   "id": "91b90acb-5caf-4040-9b90-c8c1818294c0",
   "metadata": {},
   "source": [
    "# Norms and inner products"
   ]
  },
  {
   "cell_type": "markdown",
   "id": "ed06ea3e-191d-47d8-a7e8-d16074d688de",
   "metadata": {},
   "source": [
    "A norm on $\\Rn$ is a map $\\| \\cdot \\|: \\Rn \\rightarrow \\R$ with the following properties:\n",
    "1. $\\| x \\| = 0$ if and only if $x = 0$\n",
    "2. $\\| \\alpha x \\| = |\\alpha|\\ \\| x \\|$ for all $\\alpha \\in \\R$ and $x \\in \\Rn$.\n",
    "3. $\\| x + y \\| \\leq \\| x \\| + \\| y \\|$ for all $x,y \\in \\Rn$.\n",
    "\n",
    "The last property is called the triangle inequality.\n",
    "\n",
    "If $\\| \\cdot \\|$ and $\\|| \\cdot |\\|$ are norms on $\\Rn$ then there exist $c, C > 0$ such that for all $x \\in \\Rn$,\n",
    "$$\n",
    "c \\|| x |\\| \\leq \\| x \\| \\leq C \\|| x |\\|.\n",
    "$$\n",
    "\n",
    "For $1 \\leq p \\leq \\infty$ the $p$-norm is defined to be \n",
    "$$\n",
    "\\| x \\|_{p} = \\left( \\sum_{i=1}^{n} | x_{i} |^{p} \\right)^{1/p}.\n",
    "$$\n",
    "The $\\infty$-norm is\n",
    "$$\n",
    "\\| x \\|_{\\infty} = \\max_{1 \\leq i \\leq n} | x_{i} |.\n",
    "$$"
   ]
  },
  {
   "cell_type": "markdown",
   "id": "41ca5e1c-c029-4320-b640-eb529c3548c3",
   "metadata": {},
   "source": [
    "$\\newcommand{\\ip}[2]{\\langle #1, #2 \\rangle}$\n",
    "An inner product on $\\Rn$ is a map $\\ip{\\cdot}{\\cdot}: \\Rn \\times \\Rn \\rightarrow \\R$ with the following properties:\n",
    "1. $\\ip{x}{y} = \\ip{y}{x}$ for all $x,y \\in \\Rn$.\n",
    "2. $\\ip{\\alpha x}{y} = \\alpha \\ip{x}{y}$ for all $x,y \\in \\Rn$.\n",
    "3. $\\ip{x + y}{z} = \\ip{x}{z} + \\ip{y}{z}$ for all $x,y,z\\in \\Rn$.\n",
    "\n",
    "For any inner product on $\\Rn$ there exists a symmetric positive definite matrix $A$ such that\n",
    "$$\n",
    "\\ip{x}{y} = x^{T}Ay.\n",
    "$$\n",
    "An inner product induces a norm via\n",
    "$$\n",
    "\\| x \\| = \\sqrt{\\ip{x}{x}}.\n",
    "$$"
   ]
  }
 ],
 "metadata": {
  "kernelspec": {
   "display_name": "Python 3 (ipykernel)",
   "language": "python",
   "name": "python3"
  },
  "language_info": {
   "codemirror_mode": {
    "name": "ipython",
    "version": 3
   },
   "file_extension": ".py",
   "mimetype": "text/x-python",
   "name": "python",
   "nbconvert_exporter": "python",
   "pygments_lexer": "ipython3",
   "version": "3.13.5"
  }
 },
 "nbformat": 4,
 "nbformat_minor": 5
}
